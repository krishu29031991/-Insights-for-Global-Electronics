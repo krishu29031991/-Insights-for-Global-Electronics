{
 "cells": [
  {
   "cell_type": "code",
   "execution_count": 87,
   "id": "f6197f01-fc44-4216-8096-039cf196f752",
   "metadata": {},
   "outputs": [
    {
     "name": "stdout",
     "output_type": "stream",
     "text": [
      "   StoreKey    Country                         State Square Meters   Open Date\n",
      "0         1  Australia  Australian Capital Territory           595  2008-01-01\n",
      "1         2  Australia            Northern Territory           665  2008-01-12\n",
      "2         3  Australia               South Australia          2000  2012-01-07\n",
      "3         4  Australia                      Tasmania          2000  2010-01-01\n",
      "4         5  Australia                      Victoria          2000  2015-12-09\n"
     ]
    },
    {
     "name": "stderr",
     "output_type": "stream",
     "text": [
      "C:\\Users\\avr81\\AppData\\Local\\Temp\\ipykernel_14020\\2669164041.py:16: UserWarning: pandas only supports SQLAlchemy connectable (engine/connection) or database string URI or sqlite3 DBAPI2 connection. Other DBAPI2 objects are not tested. Please consider using SQLAlchemy.\n",
      "  df = pd.read_sql(query, mydb)\n"
     ]
    }
   ],
   "source": [
    "import mysql.connector\n",
    "import pandas as pd\n",
    "#from prettytable import PrettyTable\n",
    "# Connect to MySQL database\n",
    "mydb = mysql.connector.connect(\n",
    "    host=\"localhost\",\n",
    "    user=\"root\",\n",
    "    password=\"\",\n",
    "    database=\"csv_db 14\"\n",
    ")\n",
    "\n",
    "# Query to fetch the data\n",
    "query = \"SELECT * FROM stores\"\n",
    "\n",
    "# Use Pandas to fetch data from MySQL\n",
    "df = pd.read_sql(query, mydb)\n",
    "\n",
    "# Close the connection\n",
    "mydb.close()\n",
    "\n",
    "# Display the first few rows of the dataframe\n",
    "print(df.head())\n"
   ]
  },
  {
   "cell_type": "code",
   "execution_count": 89,
   "id": "070b490b-a4d5-4361-ac96-45649fdfba26",
   "metadata": {},
   "outputs": [
    {
     "name": "stdout",
     "output_type": "stream",
     "text": [
      "StoreKey         0\n",
      "Country          0\n",
      "State            0\n",
      "Square Meters    0\n",
      "Open Date        0\n",
      "dtype: int64\n"
     ]
    }
   ],
   "source": [
    "#Check for missing values\n",
    "\n",
    "print(df.isnull().sum())\n"
   ]
  },
  {
   "cell_type": "code",
   "execution_count": 91,
   "id": "5a201a20-76dd-411e-a536-77758a6b4ed0",
   "metadata": {},
   "outputs": [],
   "source": [
    "#Fill missing values\n",
    "df.fillna('Unknown', inplace=True)  # Replace NaN with 'Unknown' in all columns\n"
   ]
  },
  {
   "cell_type": "code",
   "execution_count": 95,
   "id": "ec643c79-66fa-4650-b0e6-dbfdb80eb4af",
   "metadata": {},
   "outputs": [],
   "source": [
    "df.drop_duplicates(inplace=True)\n"
   ]
  },
  {
   "cell_type": "code",
   "execution_count": 97,
   "id": "7ca7cb5b-3e31-40e4-9656-313efd341394",
   "metadata": {},
   "outputs": [],
   "source": [
    "# Data Type Conversion Convert to numeric \n",
    "df['Square Meters'] = pd.to_numeric(df['Square Meters'], errors='coerce')\n",
    "\n"
   ]
  },
  {
   "cell_type": "code",
   "execution_count": 99,
   "id": "c9b04bb4-04f0-4b01-b9bf-aae8a4fc08ce",
   "metadata": {},
   "outputs": [],
   "source": [
    "#Convert to datetime\n",
    "df['Open Date'] = pd.to_datetime(df['Open Date'], errors='coerce')\n"
   ]
  },
  {
   "cell_type": "code",
   "execution_count": 101,
   "id": "62172536-dc27-4453-8728-674f3b954a87",
   "metadata": {},
   "outputs": [
    {
     "name": "stdout",
     "output_type": "stream",
     "text": [
      "    StoreKey        Country                         State  Square Meters  \\\n",
      "0          1      Australia  Australian Capital Territory          595.0   \n",
      "1          2      Australia            Northern Territory          665.0   \n",
      "2          3      Australia               South Australia         2000.0   \n",
      "3          4      Australia                      Tasmania         2000.0   \n",
      "4          5      Australia                      Victoria         2000.0   \n",
      "..       ...            ...                           ...            ...   \n",
      "62        63  United States                          Utah         2000.0   \n",
      "63        64  United States                 Washington DC         1330.0   \n",
      "64        65  United States                 West Virginia         1785.0   \n",
      "65        66  United States                       Wyoming          840.0   \n",
      "66         0         Online                        Online            NaN   \n",
      "\n",
      "    Open Date  \n",
      "0  2008-01-01  \n",
      "1  2008-01-12  \n",
      "2  2012-01-07  \n",
      "3  2010-01-01  \n",
      "4  2015-12-09  \n",
      "..        ...  \n",
      "62 2008-03-06  \n",
      "63 2010-01-01  \n",
      "64 2012-01-01  \n",
      "65 2014-01-01  \n",
      "66 2010-01-01  \n",
      "\n",
      "[67 rows x 5 columns]\n"
     ]
    }
   ],
   "source": [
    "#Handle Outliers\n",
    "Q1 = df['Square Meters'].quantile(0.25)\n",
    "Q3 = df['Square Meters'].quantile(0.75)\n",
    "IQR = Q3 - Q1\n",
    "# Filter out the outliers\n",
    "df = df[~((df['Square Meters'] < (Q1 - 1.5 * IQR)) | (df['Square Meters'] > (Q3 + 1.5 * IQR)))]\n",
    "print(df)"
   ]
  },
  {
   "cell_type": "code",
   "execution_count": 61,
   "id": "8e13e8f5-44c7-434b-a148-de339058255e",
   "metadata": {},
   "outputs": [],
   "source": [
    "#Strip leading/trailing spaces in string columns:\n",
    "df['Country'] = df['Country'].str.strip()\n"
   ]
  },
  {
   "cell_type": "code",
   "execution_count": 71,
   "id": "d562a08c-3259-495a-8ea7-64072af1e30e",
   "metadata": {},
   "outputs": [],
   "source": [
    "#Convert text to lowercase:\n",
    "df['Country'] = df['Country'].str.lower()\n"
   ]
  },
  {
   "cell_type": "code",
   "execution_count": null,
   "id": "5564777e-7def-44da-948d-b149e0e3f0bf",
   "metadata": {},
   "outputs": [],
   "source": [
    "\n",
    "df.to_csv('cleaned_stores.csv', index=False)\n"
   ]
  },
  {
   "cell_type": "code",
   "execution_count": null,
   "id": "f24456cc-dd24-4d2b-b685-d94d01c2006f",
   "metadata": {},
   "outputs": [],
   "source": []
  },
  {
   "cell_type": "code",
   "execution_count": null,
   "id": "ba2698c1-c905-4991-a338-0bd655782426",
   "metadata": {},
   "outputs": [],
   "source": []
  },
  {
   "cell_type": "code",
   "execution_count": 127,
   "id": "f260e273-3dd7-4a9e-b007-28de3158f3ba",
   "metadata": {},
   "outputs": [
    {
     "name": "stdout",
     "output_type": "stream",
     "text": [
      "   CustomerKey  Gender               Name            City statecode  \\\n",
      "0          301  Female      Lilly Harding  WANDEARAH EAST        SA   \n",
      "1          325  Female       Madison Hull      MOUNT BUDD        WA   \n",
      "2          554  Female      Claire Ferres       WINJALLOK       VIC   \n",
      "3          786    Male  Jai Poltpalingada    MIDDLE RIVER        SA   \n",
      "4         1042    Male    Aidan Pankhurst   TAWONGA SOUTH       VIC   \n",
      "\n",
      "               State ZipCode    Country  Continent    Birthday  \n",
      "0    South Australia    5523  Australia  Australia  1939-07-03  \n",
      "1  Western Australia    6522  Australia  Australia  1979-09-27  \n",
      "2           Victoria    3380  Australia  Australia  1947-05-26  \n",
      "3    South Australia    5223  Australia  Australia  1957-09-17  \n",
      "4           Victoria    3698  Australia  Australia  1965-11-19  \n"
     ]
    },
    {
     "name": "stderr",
     "output_type": "stream",
     "text": [
      "C:\\Users\\avr81\\AppData\\Local\\Temp\\ipykernel_14020\\1631540713.py:16: UserWarning: pandas only supports SQLAlchemy connectable (engine/connection) or database string URI or sqlite3 DBAPI2 connection. Other DBAPI2 objects are not tested. Please consider using SQLAlchemy.\n",
      "  df = pd.read_sql(query, mydb)\n"
     ]
    }
   ],
   "source": [
    "import mysql.connector\n",
    "import pandas as pd\n",
    "#from prettytable import PrettyTable\n",
    "# Connect to MySQL database\n",
    "mydb = mysql.connector.connect(\n",
    "    host=\"localhost\",\n",
    "    user=\"root\",\n",
    "    password=\"\",\n",
    "    database=\"csv_db 14\"\n",
    ")\n",
    "\n",
    "# Query to fetch the data\n",
    "query = \"SELECT * FROM customers\"\n",
    "\n",
    "# Use Pandas to fetch data from MySQL\n",
    "df = pd.read_sql(query, mydb)\n",
    "\n",
    "# Close the connection\n",
    "mydb.close()\n",
    "\n",
    "# Display the first few rows of the dataframe\n",
    "print(df.head())\n"
   ]
  },
  {
   "cell_type": "code",
   "execution_count": 105,
   "id": "01eafba6-6361-4a38-8c94-ba4e9ae1598e",
   "metadata": {},
   "outputs": [
    {
     "name": "stdout",
     "output_type": "stream",
     "text": [
      "CustomerKey    0\n",
      "Gender         0\n",
      "Name           0\n",
      "City           0\n",
      "statecode      0\n",
      "State          0\n",
      "ZipCode        0\n",
      "Country        0\n",
      "Continent      0\n",
      "Birthday       0\n",
      "dtype: int64\n"
     ]
    }
   ],
   "source": [
    "#Check for missing values\n",
    "\n",
    "print(df.isnull().sum())\n"
   ]
  },
  {
   "cell_type": "code",
   "execution_count": 123,
   "id": "dbc1db5a-066a-46c2-a35c-967b0cdb414d",
   "metadata": {},
   "outputs": [],
   "source": [
    "#Fill missing values\n",
    "df.fillna('Unknown', inplace=True)  # Replace NaN with 'Unknown' in all columns\n",
    "df.drop_duplicates(inplace=True)"
   ]
  },
  {
   "cell_type": "code",
   "execution_count": 149,
   "id": "ceb3c97c-ea92-4d32-bb3b-0b87e1dfb1a4",
   "metadata": {},
   "outputs": [],
   "source": [
    "\n",
    "# Data Type Conversion Convert to numeric \n",
    "df['CustomerKey'] = pd.to_numeric(df['CustomerKey'], errors='coerce')\n",
    "df['City'] = df['City'].astype(str)\n",
    "\n",
    "\n",
    "#Convert to datetime\n",
    "df['Birthday'] = pd.to_datetime(df['Birthday'], errors='coerce')"
   ]
  },
  {
   "cell_type": "code",
   "execution_count": 153,
   "id": "91b5dfe9-b7a2-47d3-9c00-abf186d79218",
   "metadata": {},
   "outputs": [
    {
     "ename": "AttributeError",
     "evalue": "Can only use .str accessor with string values!",
     "output_type": "error",
     "traceback": [
      "\u001b[1;31m---------------------------------------------------------------------------\u001b[0m",
      "\u001b[1;31mAttributeError\u001b[0m                            Traceback (most recent call last)",
      "Cell \u001b[1;32mIn[153], line 2\u001b[0m\n\u001b[0;32m      1\u001b[0m \u001b[38;5;66;03m#Strip leading/trailing spaces in string columns:\u001b[39;00m\n\u001b[1;32m----> 2\u001b[0m df[\u001b[38;5;124m'\u001b[39m\u001b[38;5;124mCity\u001b[39m\u001b[38;5;124m'\u001b[39m] \u001b[38;5;241m=\u001b[39m \u001b[43mdf\u001b[49m\u001b[43m[\u001b[49m\u001b[38;5;124;43m'\u001b[39;49m\u001b[38;5;124;43mCity\u001b[39;49m\u001b[38;5;124;43m'\u001b[39;49m\u001b[43m]\u001b[49m\u001b[38;5;241;43m.\u001b[39;49m\u001b[43mstr\u001b[49m\u001b[38;5;241m.\u001b[39mstrip()\n\u001b[0;32m      4\u001b[0m \u001b[38;5;66;03m#Convert text to lowercase:\u001b[39;00m\n\u001b[0;32m      5\u001b[0m df[\u001b[38;5;124m'\u001b[39m\u001b[38;5;124mCity\u001b[39m\u001b[38;5;124m'\u001b[39m] \u001b[38;5;241m=\u001b[39m df[\u001b[38;5;124m'\u001b[39m\u001b[38;5;124mCity\u001b[39m\u001b[38;5;124m'\u001b[39m]\u001b[38;5;241m.\u001b[39mstr\u001b[38;5;241m.\u001b[39mlower()\n",
      "File \u001b[1;32m~\\anaconda3\\Lib\\site-packages\\pandas\\core\\generic.py:6299\u001b[0m, in \u001b[0;36mNDFrame.__getattr__\u001b[1;34m(self, name)\u001b[0m\n\u001b[0;32m   6292\u001b[0m \u001b[38;5;28;01mif\u001b[39;00m (\n\u001b[0;32m   6293\u001b[0m     name \u001b[38;5;129;01mnot\u001b[39;00m \u001b[38;5;129;01min\u001b[39;00m \u001b[38;5;28mself\u001b[39m\u001b[38;5;241m.\u001b[39m_internal_names_set\n\u001b[0;32m   6294\u001b[0m     \u001b[38;5;129;01mand\u001b[39;00m name \u001b[38;5;129;01mnot\u001b[39;00m \u001b[38;5;129;01min\u001b[39;00m \u001b[38;5;28mself\u001b[39m\u001b[38;5;241m.\u001b[39m_metadata\n\u001b[0;32m   6295\u001b[0m     \u001b[38;5;129;01mand\u001b[39;00m name \u001b[38;5;129;01mnot\u001b[39;00m \u001b[38;5;129;01min\u001b[39;00m \u001b[38;5;28mself\u001b[39m\u001b[38;5;241m.\u001b[39m_accessors\n\u001b[0;32m   6296\u001b[0m     \u001b[38;5;129;01mand\u001b[39;00m \u001b[38;5;28mself\u001b[39m\u001b[38;5;241m.\u001b[39m_info_axis\u001b[38;5;241m.\u001b[39m_can_hold_identifiers_and_holds_name(name)\n\u001b[0;32m   6297\u001b[0m ):\n\u001b[0;32m   6298\u001b[0m     \u001b[38;5;28;01mreturn\u001b[39;00m \u001b[38;5;28mself\u001b[39m[name]\n\u001b[1;32m-> 6299\u001b[0m \u001b[38;5;28;01mreturn\u001b[39;00m \u001b[38;5;28;43mobject\u001b[39;49m\u001b[38;5;241;43m.\u001b[39;49m\u001b[38;5;21;43m__getattribute__\u001b[39;49m\u001b[43m(\u001b[49m\u001b[38;5;28;43mself\u001b[39;49m\u001b[43m,\u001b[49m\u001b[43m \u001b[49m\u001b[43mname\u001b[49m\u001b[43m)\u001b[49m\n",
      "File \u001b[1;32m~\\anaconda3\\Lib\\site-packages\\pandas\\core\\accessor.py:224\u001b[0m, in \u001b[0;36mCachedAccessor.__get__\u001b[1;34m(self, obj, cls)\u001b[0m\n\u001b[0;32m    221\u001b[0m \u001b[38;5;28;01mif\u001b[39;00m obj \u001b[38;5;129;01mis\u001b[39;00m \u001b[38;5;28;01mNone\u001b[39;00m:\n\u001b[0;32m    222\u001b[0m     \u001b[38;5;66;03m# we're accessing the attribute of the class, i.e., Dataset.geo\u001b[39;00m\n\u001b[0;32m    223\u001b[0m     \u001b[38;5;28;01mreturn\u001b[39;00m \u001b[38;5;28mself\u001b[39m\u001b[38;5;241m.\u001b[39m_accessor\n\u001b[1;32m--> 224\u001b[0m accessor_obj \u001b[38;5;241m=\u001b[39m \u001b[38;5;28;43mself\u001b[39;49m\u001b[38;5;241;43m.\u001b[39;49m\u001b[43m_accessor\u001b[49m\u001b[43m(\u001b[49m\u001b[43mobj\u001b[49m\u001b[43m)\u001b[49m\n\u001b[0;32m    225\u001b[0m \u001b[38;5;66;03m# Replace the property with the accessor object. Inspired by:\u001b[39;00m\n\u001b[0;32m    226\u001b[0m \u001b[38;5;66;03m# https://www.pydanny.com/cached-property.html\u001b[39;00m\n\u001b[0;32m    227\u001b[0m \u001b[38;5;66;03m# We need to use object.__setattr__ because we overwrite __setattr__ on\u001b[39;00m\n\u001b[0;32m    228\u001b[0m \u001b[38;5;66;03m# NDFrame\u001b[39;00m\n\u001b[0;32m    229\u001b[0m \u001b[38;5;28mobject\u001b[39m\u001b[38;5;241m.\u001b[39m\u001b[38;5;21m__setattr__\u001b[39m(obj, \u001b[38;5;28mself\u001b[39m\u001b[38;5;241m.\u001b[39m_name, accessor_obj)\n",
      "File \u001b[1;32m~\\anaconda3\\Lib\\site-packages\\pandas\\core\\strings\\accessor.py:191\u001b[0m, in \u001b[0;36mStringMethods.__init__\u001b[1;34m(self, data)\u001b[0m\n\u001b[0;32m    188\u001b[0m \u001b[38;5;28;01mdef\u001b[39;00m \u001b[38;5;21m__init__\u001b[39m(\u001b[38;5;28mself\u001b[39m, data) \u001b[38;5;241m-\u001b[39m\u001b[38;5;241m>\u001b[39m \u001b[38;5;28;01mNone\u001b[39;00m:\n\u001b[0;32m    189\u001b[0m     \u001b[38;5;28;01mfrom\u001b[39;00m \u001b[38;5;21;01mpandas\u001b[39;00m\u001b[38;5;21;01m.\u001b[39;00m\u001b[38;5;21;01mcore\u001b[39;00m\u001b[38;5;21;01m.\u001b[39;00m\u001b[38;5;21;01marrays\u001b[39;00m\u001b[38;5;21;01m.\u001b[39;00m\u001b[38;5;21;01mstring_\u001b[39;00m \u001b[38;5;28;01mimport\u001b[39;00m StringDtype\n\u001b[1;32m--> 191\u001b[0m     \u001b[38;5;28mself\u001b[39m\u001b[38;5;241m.\u001b[39m_inferred_dtype \u001b[38;5;241m=\u001b[39m \u001b[38;5;28;43mself\u001b[39;49m\u001b[38;5;241;43m.\u001b[39;49m\u001b[43m_validate\u001b[49m\u001b[43m(\u001b[49m\u001b[43mdata\u001b[49m\u001b[43m)\u001b[49m\n\u001b[0;32m    192\u001b[0m     \u001b[38;5;28mself\u001b[39m\u001b[38;5;241m.\u001b[39m_is_categorical \u001b[38;5;241m=\u001b[39m \u001b[38;5;28misinstance\u001b[39m(data\u001b[38;5;241m.\u001b[39mdtype, CategoricalDtype)\n\u001b[0;32m    193\u001b[0m     \u001b[38;5;28mself\u001b[39m\u001b[38;5;241m.\u001b[39m_is_string \u001b[38;5;241m=\u001b[39m \u001b[38;5;28misinstance\u001b[39m(data\u001b[38;5;241m.\u001b[39mdtype, StringDtype)\n",
      "File \u001b[1;32m~\\anaconda3\\Lib\\site-packages\\pandas\\core\\strings\\accessor.py:245\u001b[0m, in \u001b[0;36mStringMethods._validate\u001b[1;34m(data)\u001b[0m\n\u001b[0;32m    242\u001b[0m inferred_dtype \u001b[38;5;241m=\u001b[39m lib\u001b[38;5;241m.\u001b[39minfer_dtype(values, skipna\u001b[38;5;241m=\u001b[39m\u001b[38;5;28;01mTrue\u001b[39;00m)\n\u001b[0;32m    244\u001b[0m \u001b[38;5;28;01mif\u001b[39;00m inferred_dtype \u001b[38;5;129;01mnot\u001b[39;00m \u001b[38;5;129;01min\u001b[39;00m allowed_types:\n\u001b[1;32m--> 245\u001b[0m     \u001b[38;5;28;01mraise\u001b[39;00m \u001b[38;5;167;01mAttributeError\u001b[39;00m(\u001b[38;5;124m\"\u001b[39m\u001b[38;5;124mCan only use .str accessor with string values!\u001b[39m\u001b[38;5;124m\"\u001b[39m)\n\u001b[0;32m    246\u001b[0m \u001b[38;5;28;01mreturn\u001b[39;00m inferred_dtype\n",
      "\u001b[1;31mAttributeError\u001b[0m: Can only use .str accessor with string values!"
     ]
    }
   ],
   "source": [
    "#Strip leading/trailing spaces in string columns:\n",
    "df['City'] = df['City'].str.strip()\n",
    "\n",
    "#Convert text to lowercase:\n",
    "df['City'] = df['City'].str.lower()\n"
   ]
  },
  {
   "cell_type": "code",
   "execution_count": 131,
   "id": "4f59866f-d0b2-4d47-b774-7f1b7517b662",
   "metadata": {},
   "outputs": [],
   "source": [
    "\n",
    "df.to_csv('cleaned_stores.csv', index=False)"
   ]
  }
 ],
 "metadata": {
  "kernelspec": {
   "display_name": "Python 3 (ipykernel)",
   "language": "python",
   "name": "python3"
  },
  "language_info": {
   "codemirror_mode": {
    "name": "ipython",
    "version": 3
   },
   "file_extension": ".py",
   "mimetype": "text/x-python",
   "name": "python",
   "nbconvert_exporter": "python",
   "pygments_lexer": "ipython3",
   "version": "3.12.4"
  }
 },
 "nbformat": 4,
 "nbformat_minor": 5
}
